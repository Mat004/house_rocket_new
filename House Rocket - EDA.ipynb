{
 "cells": [
  {
   "cell_type": "markdown",
   "metadata": {},
   "source": [
    "# 0 - Imports"
   ]
  },
  {
   "cell_type": "code",
   "execution_count": 38,
   "metadata": {},
   "outputs": [],
   "source": [
    "import pandas as pd\n",
    "import numpy as np\n",
    "\n",
    "from scipy.stats import skew, kurtosis\n",
    "\n",
    "pd.set_option('display.float_format', '{:.2f}'.format)"
   ]
  },
  {
   "cell_type": "markdown",
   "metadata": {},
   "source": [
    "## 0.1 - Loading data"
   ]
  },
  {
   "cell_type": "code",
   "execution_count": 2,
   "metadata": {},
   "outputs": [],
   "source": [
    "df_raw = pd.read_csv('kc_house_data.csv')"
   ]
  },
  {
   "cell_type": "markdown",
   "metadata": {},
   "source": [
    "# 1 - Helper functions"
   ]
  },
  {
   "cell_type": "code",
   "execution_count": null,
   "metadata": {},
   "outputs": [],
   "source": []
  },
  {
   "cell_type": "markdown",
   "metadata": {},
   "source": [
    "# 2 - Description data"
   ]
  },
  {
   "cell_type": "markdown",
   "metadata": {},
   "source": [
    "## 2.1 - Data dimension"
   ]
  },
  {
   "cell_type": "code",
   "execution_count": 3,
   "metadata": {},
   "outputs": [
    {
     "name": "stdout",
     "output_type": "stream",
     "text": [
      "Quantidade de colunas: 21613\n",
      "Quantidade de linhas: 21\n"
     ]
    }
   ],
   "source": [
    "df_raw.shape\n",
    "\n",
    "print(f'Quantidade de colunas: {df_raw.shape[0]}')\n",
    "print(f'Quantidade de linhas: {df_raw.shape[1]}')"
   ]
  },
  {
   "cell_type": "markdown",
   "metadata": {},
   "source": [
    "## 2.2 - Columns"
   ]
  },
  {
   "cell_type": "code",
   "execution_count": 4,
   "metadata": {},
   "outputs": [
    {
     "data": {
      "text/plain": [
       "Index(['id', 'date', 'price', 'bedrooms', 'bathrooms', 'sqft_living',\n",
       "       'sqft_lot', 'floors', 'waterfront', 'view', 'condition', 'grade',\n",
       "       'sqft_above', 'sqft_basement', 'yr_built', 'yr_renovated', 'zipcode',\n",
       "       'lat', 'long', 'sqft_living15', 'sqft_lot15'],\n",
       "      dtype='object')"
      ]
     },
     "execution_count": 4,
     "metadata": {},
     "output_type": "execute_result"
    }
   ],
   "source": [
    "df_raw.columns"
   ]
  },
  {
   "cell_type": "markdown",
   "metadata": {},
   "source": [
    "- id: Identificação do imóvel\n",
    "- data: Data de venda do imóvel\n",
    "- price: Preço do imóvel\n",
    "- bedrooms: Quantidade de quartos\n",
    "- bathrooms: Quantidade de banheiros\n",
    "- sqft_living: Metragem da área de estar\n",
    "- sqft_lot: Metragem da área do lote\n",
    "- floors: Quantidade de andares\n",
    "- waterfront: Vista para a água\n",
    "- view: Se foi visualizado\n",
    "- condition: Condição de conservação do imóvel\n",
    "- grade: Nota geral dada a unidade habitacional \n",
    "- sqft_above: Metragem quadrada do imóvel\n",
    "- sqft_basement: Metragem quadrada do porão\n",
    "- yr_built: Ano de construção do imóvel\n",
    "- yr_renovated: Ano de reforma do imóvel\n",
    "- zipcode: Código postal\n",
    "- lat: Latitude da localização do imóvel\n",
    "- long: Longitude da localização do imóvel \n",
    "- sqft_living15: Metragem quadrada da sala de estar em 2015 (implica em algumas renovações)\n",
    "- sqft_lot15: Metragem quadrada do lote em 2015 (implica em algumas renovações)"
   ]
  },
  {
   "cell_type": "markdown",
   "metadata": {},
   "source": [
    "## 2.3 - Data types"
   ]
  },
  {
   "cell_type": "code",
   "execution_count": 5,
   "metadata": {},
   "outputs": [],
   "source": [
    "df1 = df_raw.copy()"
   ]
  },
  {
   "cell_type": "code",
   "execution_count": 6,
   "metadata": {},
   "outputs": [
    {
     "data": {
      "text/plain": [
       "id                 int64\n",
       "date              object\n",
       "price            float64\n",
       "bedrooms           int64\n",
       "bathrooms        float64\n",
       "sqft_living        int64\n",
       "sqft_lot           int64\n",
       "floors           float64\n",
       "waterfront         int64\n",
       "view               int64\n",
       "condition          int64\n",
       "grade              int64\n",
       "sqft_above         int64\n",
       "sqft_basement      int64\n",
       "yr_built           int64\n",
       "yr_renovated       int64\n",
       "zipcode            int64\n",
       "lat              float64\n",
       "long             float64\n",
       "sqft_living15      int64\n",
       "sqft_lot15         int64\n",
       "dtype: object"
      ]
     },
     "execution_count": 6,
     "metadata": {},
     "output_type": "execute_result"
    }
   ],
   "source": [
    "df1.dtypes"
   ]
  },
  {
   "cell_type": "code",
   "execution_count": 7,
   "metadata": {},
   "outputs": [],
   "source": [
    "df1['id'] = df1['id'].astype('str')\n",
    "df1['date'] = pd.to_datetime(df1['date'])\n",
    "df1['view'] = df1['view'].astype('str')\n",
    "df1['condition'] = df1['condition'].astype('str')\n",
    "df1['waterfront'] = df1['waterfront'].astype('str')\n",
    "df1['zipcode'] = df1['zipcode'].astype('str')"
   ]
  },
  {
   "cell_type": "markdown",
   "metadata": {},
   "source": [
    "## 2.4 - Check NA"
   ]
  },
  {
   "cell_type": "code",
   "execution_count": 8,
   "metadata": {},
   "outputs": [
    {
     "data": {
      "text/plain": [
       "id               0\n",
       "date             0\n",
       "price            0\n",
       "bedrooms         0\n",
       "bathrooms        0\n",
       "sqft_living      0\n",
       "sqft_lot         0\n",
       "floors           0\n",
       "waterfront       0\n",
       "view             0\n",
       "condition        0\n",
       "grade            0\n",
       "sqft_above       0\n",
       "sqft_basement    0\n",
       "yr_built         0\n",
       "yr_renovated     0\n",
       "zipcode          0\n",
       "lat              0\n",
       "long             0\n",
       "sqft_living15    0\n",
       "sqft_lot15       0\n",
       "dtype: int64"
      ]
     },
     "execution_count": 8,
     "metadata": {},
     "output_type": "execute_result"
    }
   ],
   "source": [
    "df1.isna().sum()"
   ]
  },
  {
   "cell_type": "markdown",
   "metadata": {},
   "source": [
    "## 2.5 - Check duplicates"
   ]
  },
  {
   "cell_type": "code",
   "execution_count": 9,
   "metadata": {},
   "outputs": [
    {
     "name": "stdout",
     "output_type": "stream",
     "text": [
      "Quantidade de dados duplicados: 0\n"
     ]
    }
   ],
   "source": [
    "print(f\"Quantidade de dados duplicados: {df1.duplicated().sum()}\")"
   ]
  },
  {
   "cell_type": "markdown",
   "metadata": {},
   "source": [
    "## 2.6 - Descriptive statistical"
   ]
  },
  {
   "cell_type": "code",
   "execution_count": 10,
   "metadata": {},
   "outputs": [],
   "source": [
    "#Seleção de atributos numéricos\n",
    "num_attributes = df1.select_dtypes(include=['int64', 'float64'])\n",
    "\n",
    "#Seleção de atributos categóricos\n",
    "cat_attributes = df1.select_dtypes(exclude=['int64', 'float64'])"
   ]
  },
  {
   "cell_type": "markdown",
   "metadata": {},
   "source": [
    "### 2.6.1 - Numerical attributes"
   ]
  },
  {
   "cell_type": "code",
   "execution_count": 41,
   "metadata": {},
   "outputs": [],
   "source": [
    "#Medidas de tendência central\n",
    "minimo = num_attributes.apply(np.min)\n",
    "maximo = num_attributes.apply(np.max)\n",
    "media = num_attributes.apply(np.mean)\n",
    "mediana = num_attributes.apply(np.median)\n",
    "\n",
    "#Medidas de dispersão\n",
    "amplitude = num_attributes.apply(np.max) - num_attributes.apply(np.min)\n",
    "desvio_padrao = num_attributes.apply(np.std)\n",
    "variancia = num_attributes.apply(np.var)\n",
    "\n",
    "#Medidas de distribuição dos dados\n",
    "skewness = num_attributes.apply(skew)\n",
    "kurt = num_attributes.apply(kurtosis)\n",
    "\n"
   ]
  },
  {
   "cell_type": "code",
   "execution_count": 42,
   "metadata": {},
   "outputs": [],
   "source": [
    "data_attributes = pd.concat([minimo, maximo, media, mediana, amplitude, desvio_padrao, variancia, skewness, kurt], axis=1)"
   ]
  },
  {
   "cell_type": "code",
   "execution_count": 43,
   "metadata": {},
   "outputs": [],
   "source": [
    "columns_new = ['min', 'max', 'mean', 'median', 'amplitude', 'std', 'var', 'skewness', 'kurtosis']\n",
    "data_attributes.columns=columns_new"
   ]
  },
  {
   "cell_type": "code",
   "execution_count": 44,
   "metadata": {},
   "outputs": [
    {
     "data": {
      "text/html": [
       "<div>\n",
       "<style scoped>\n",
       "    .dataframe tbody tr th:only-of-type {\n",
       "        vertical-align: middle;\n",
       "    }\n",
       "\n",
       "    .dataframe tbody tr th {\n",
       "        vertical-align: top;\n",
       "    }\n",
       "\n",
       "    .dataframe thead th {\n",
       "        text-align: right;\n",
       "    }\n",
       "</style>\n",
       "<table border=\"1\" class=\"dataframe\">\n",
       "  <thead>\n",
       "    <tr style=\"text-align: right;\">\n",
       "      <th></th>\n",
       "      <th>min</th>\n",
       "      <th>max</th>\n",
       "      <th>mean</th>\n",
       "      <th>median</th>\n",
       "      <th>amplitude</th>\n",
       "      <th>std</th>\n",
       "      <th>var</th>\n",
       "      <th>skewness</th>\n",
       "      <th>kurtosis</th>\n",
       "    </tr>\n",
       "  </thead>\n",
       "  <tbody>\n",
       "    <tr>\n",
       "      <th>price</th>\n",
       "      <td>75000.00</td>\n",
       "      <td>7700000.00</td>\n",
       "      <td>540088.14</td>\n",
       "      <td>450000.00</td>\n",
       "      <td>7625000.00</td>\n",
       "      <td>367118.70</td>\n",
       "      <td>134776142225.57</td>\n",
       "      <td>4.02</td>\n",
       "      <td>34.58</td>\n",
       "    </tr>\n",
       "    <tr>\n",
       "      <th>bedrooms</th>\n",
       "      <td>0.00</td>\n",
       "      <td>33.00</td>\n",
       "      <td>3.37</td>\n",
       "      <td>3.00</td>\n",
       "      <td>33.00</td>\n",
       "      <td>0.93</td>\n",
       "      <td>0.86</td>\n",
       "      <td>1.97</td>\n",
       "      <td>49.05</td>\n",
       "    </tr>\n",
       "    <tr>\n",
       "      <th>bathrooms</th>\n",
       "      <td>0.00</td>\n",
       "      <td>8.00</td>\n",
       "      <td>2.11</td>\n",
       "      <td>2.25</td>\n",
       "      <td>8.00</td>\n",
       "      <td>0.77</td>\n",
       "      <td>0.59</td>\n",
       "      <td>0.51</td>\n",
       "      <td>1.28</td>\n",
       "    </tr>\n",
       "    <tr>\n",
       "      <th>sqft_living</th>\n",
       "      <td>290.00</td>\n",
       "      <td>13540.00</td>\n",
       "      <td>2079.90</td>\n",
       "      <td>1910.00</td>\n",
       "      <td>13250.00</td>\n",
       "      <td>918.42</td>\n",
       "      <td>843494.65</td>\n",
       "      <td>1.47</td>\n",
       "      <td>5.24</td>\n",
       "    </tr>\n",
       "    <tr>\n",
       "      <th>sqft_lot</th>\n",
       "      <td>520.00</td>\n",
       "      <td>1651359.00</td>\n",
       "      <td>15106.97</td>\n",
       "      <td>7618.00</td>\n",
       "      <td>1650839.00</td>\n",
       "      <td>41419.55</td>\n",
       "      <td>1715579393.30</td>\n",
       "      <td>13.06</td>\n",
       "      <td>285.01</td>\n",
       "    </tr>\n",
       "    <tr>\n",
       "      <th>floors</th>\n",
       "      <td>1.00</td>\n",
       "      <td>3.50</td>\n",
       "      <td>1.49</td>\n",
       "      <td>1.50</td>\n",
       "      <td>2.50</td>\n",
       "      <td>0.54</td>\n",
       "      <td>0.29</td>\n",
       "      <td>0.62</td>\n",
       "      <td>-0.48</td>\n",
       "    </tr>\n",
       "    <tr>\n",
       "      <th>grade</th>\n",
       "      <td>1.00</td>\n",
       "      <td>13.00</td>\n",
       "      <td>7.66</td>\n",
       "      <td>7.00</td>\n",
       "      <td>12.00</td>\n",
       "      <td>1.18</td>\n",
       "      <td>1.38</td>\n",
       "      <td>0.77</td>\n",
       "      <td>1.19</td>\n",
       "    </tr>\n",
       "    <tr>\n",
       "      <th>sqft_above</th>\n",
       "      <td>290.00</td>\n",
       "      <td>9410.00</td>\n",
       "      <td>1788.39</td>\n",
       "      <td>1560.00</td>\n",
       "      <td>9120.00</td>\n",
       "      <td>828.07</td>\n",
       "      <td>685702.94</td>\n",
       "      <td>1.45</td>\n",
       "      <td>3.40</td>\n",
       "    </tr>\n",
       "    <tr>\n",
       "      <th>sqft_basement</th>\n",
       "      <td>0.00</td>\n",
       "      <td>4820.00</td>\n",
       "      <td>291.51</td>\n",
       "      <td>0.00</td>\n",
       "      <td>4820.00</td>\n",
       "      <td>442.56</td>\n",
       "      <td>195863.61</td>\n",
       "      <td>1.58</td>\n",
       "      <td>2.71</td>\n",
       "    </tr>\n",
       "    <tr>\n",
       "      <th>yr_built</th>\n",
       "      <td>1900.00</td>\n",
       "      <td>2015.00</td>\n",
       "      <td>1971.01</td>\n",
       "      <td>1975.00</td>\n",
       "      <td>115.00</td>\n",
       "      <td>29.37</td>\n",
       "      <td>862.76</td>\n",
       "      <td>-0.47</td>\n",
       "      <td>-0.66</td>\n",
       "    </tr>\n",
       "    <tr>\n",
       "      <th>yr_renovated</th>\n",
       "      <td>0.00</td>\n",
       "      <td>2015.00</td>\n",
       "      <td>84.40</td>\n",
       "      <td>0.00</td>\n",
       "      <td>2015.00</td>\n",
       "      <td>401.67</td>\n",
       "      <td>161338.75</td>\n",
       "      <td>4.55</td>\n",
       "      <td>18.70</td>\n",
       "    </tr>\n",
       "    <tr>\n",
       "      <th>lat</th>\n",
       "      <td>47.16</td>\n",
       "      <td>47.78</td>\n",
       "      <td>47.56</td>\n",
       "      <td>47.57</td>\n",
       "      <td>0.62</td>\n",
       "      <td>0.14</td>\n",
       "      <td>0.02</td>\n",
       "      <td>-0.49</td>\n",
       "      <td>-0.68</td>\n",
       "    </tr>\n",
       "    <tr>\n",
       "      <th>long</th>\n",
       "      <td>-122.52</td>\n",
       "      <td>-121.31</td>\n",
       "      <td>-122.21</td>\n",
       "      <td>-122.23</td>\n",
       "      <td>1.20</td>\n",
       "      <td>0.14</td>\n",
       "      <td>0.02</td>\n",
       "      <td>0.88</td>\n",
       "      <td>1.05</td>\n",
       "    </tr>\n",
       "    <tr>\n",
       "      <th>sqft_living15</th>\n",
       "      <td>399.00</td>\n",
       "      <td>6210.00</td>\n",
       "      <td>1986.55</td>\n",
       "      <td>1840.00</td>\n",
       "      <td>5811.00</td>\n",
       "      <td>685.38</td>\n",
       "      <td>469739.50</td>\n",
       "      <td>1.11</td>\n",
       "      <td>1.60</td>\n",
       "    </tr>\n",
       "    <tr>\n",
       "      <th>sqft_lot15</th>\n",
       "      <td>651.00</td>\n",
       "      <td>871200.00</td>\n",
       "      <td>12768.46</td>\n",
       "      <td>7620.00</td>\n",
       "      <td>870549.00</td>\n",
       "      <td>27303.55</td>\n",
       "      <td>745483731.37</td>\n",
       "      <td>9.51</td>\n",
       "      <td>150.73</td>\n",
       "    </tr>\n",
       "  </tbody>\n",
       "</table>\n",
       "</div>"
      ],
      "text/plain": [
       "                   min        max      mean    median  amplitude       std  \\\n",
       "price         75000.00 7700000.00 540088.14 450000.00 7625000.00 367118.70   \n",
       "bedrooms          0.00      33.00      3.37      3.00      33.00      0.93   \n",
       "bathrooms         0.00       8.00      2.11      2.25       8.00      0.77   \n",
       "sqft_living     290.00   13540.00   2079.90   1910.00   13250.00    918.42   \n",
       "sqft_lot        520.00 1651359.00  15106.97   7618.00 1650839.00  41419.55   \n",
       "floors            1.00       3.50      1.49      1.50       2.50      0.54   \n",
       "grade             1.00      13.00      7.66      7.00      12.00      1.18   \n",
       "sqft_above      290.00    9410.00   1788.39   1560.00    9120.00    828.07   \n",
       "sqft_basement     0.00    4820.00    291.51      0.00    4820.00    442.56   \n",
       "yr_built       1900.00    2015.00   1971.01   1975.00     115.00     29.37   \n",
       "yr_renovated      0.00    2015.00     84.40      0.00    2015.00    401.67   \n",
       "lat              47.16      47.78     47.56     47.57       0.62      0.14   \n",
       "long           -122.52    -121.31   -122.21   -122.23       1.20      0.14   \n",
       "sqft_living15   399.00    6210.00   1986.55   1840.00    5811.00    685.38   \n",
       "sqft_lot15      651.00  871200.00  12768.46   7620.00  870549.00  27303.55   \n",
       "\n",
       "                          var  skewness  kurtosis  \n",
       "price         134776142225.57      4.02     34.58  \n",
       "bedrooms                 0.86      1.97     49.05  \n",
       "bathrooms                0.59      0.51      1.28  \n",
       "sqft_living         843494.65      1.47      5.24  \n",
       "sqft_lot        1715579393.30     13.06    285.01  \n",
       "floors                   0.29      0.62     -0.48  \n",
       "grade                    1.38      0.77      1.19  \n",
       "sqft_above          685702.94      1.45      3.40  \n",
       "sqft_basement       195863.61      1.58      2.71  \n",
       "yr_built               862.76     -0.47     -0.66  \n",
       "yr_renovated        161338.75      4.55     18.70  \n",
       "lat                      0.02     -0.49     -0.68  \n",
       "long                     0.02      0.88      1.05  \n",
       "sqft_living15       469739.50      1.11      1.60  \n",
       "sqft_lot15       745483731.37      9.51    150.73  "
      ]
     },
     "execution_count": 44,
     "metadata": {},
     "output_type": "execute_result"
    }
   ],
   "source": [
    "data_attributes"
   ]
  },
  {
   "cell_type": "markdown",
   "metadata": {},
   "source": [
    "# 3 - Exploratory data analysis"
   ]
  },
  {
   "cell_type": "code",
   "execution_count": null,
   "metadata": {},
   "outputs": [],
   "source": []
  },
  {
   "cell_type": "code",
   "execution_count": null,
   "metadata": {},
   "outputs": [],
   "source": []
  },
  {
   "cell_type": "code",
   "execution_count": null,
   "metadata": {},
   "outputs": [],
   "source": []
  }
 ],
 "metadata": {
  "kernelspec": {
   "display_name": "Calculadora",
   "language": "python",
   "name": "python3"
  },
  "language_info": {
   "codemirror_mode": {
    "name": "ipython",
    "version": 3
   },
   "file_extension": ".py",
   "mimetype": "text/x-python",
   "name": "python",
   "nbconvert_exporter": "python",
   "pygments_lexer": "ipython3",
   "version": "3.10.11"
  }
 },
 "nbformat": 4,
 "nbformat_minor": 2
}
